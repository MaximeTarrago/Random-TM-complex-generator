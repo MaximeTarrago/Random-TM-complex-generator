{
 "cells": [
  {
   "cell_type": "code",
   "execution_count": 184,
   "id": "hired-replacement",
   "metadata": {},
   "outputs": [],
   "source": [
    "from rdkit import Chem\n",
    "import pandas as pd\n",
    "from rdkit.Chem.rdmolfiles import SDMolSupplier\n",
    "from rdkit.Chem import AllChem\n",
    "from rdkit.Chem import Descriptors\n",
    "from rdkit.Chem.Draw import IPythonConsole\n",
    "import re\n",
    "import random"
   ]
  },
  {
   "cell_type": "code",
   "execution_count": 185,
   "id": "attractive-milton",
   "metadata": {},
   "outputs": [],
   "source": [
    "#1: This program shows how to extract a library of bipyridine sidechains from an open-source csv file containg about \n",
    "#   10 000 bipyridine ligand"
   ]
  },
  {
   "cell_type": "code",
   "execution_count": 186,
   "id": "opposite-option",
   "metadata": {},
   "outputs": [
    {
     "name": "stderr",
     "output_type": "stream",
     "text": [
      "RDKit WARNING: [13:57:23] WARNING: not removing hydrogen atom without neighbors\n",
      "RDKit WARNING: [13:57:23] WARNING: not removing hydrogen atom without neighbors\n",
      "RDKit WARNING: [13:57:23] WARNING: not removing hydrogen atom without neighbors\n",
      "RDKit WARNING: [13:57:23] WARNING: not removing hydrogen atom without neighbors\n",
      "RDKit WARNING: [13:57:23] WARNING: not removing hydrogen atom without neighbors\n",
      "RDKit WARNING: [13:57:23] WARNING: not removing hydrogen atom without neighbors\n",
      "RDKit WARNING: [13:57:23] WARNING: not removing hydrogen atom without neighbors\n",
      "RDKit WARNING: [13:57:24] WARNING: not removing hydrogen atom without neighbors\n",
      "RDKit WARNING: [13:57:24] WARNING: not removing hydrogen atom without neighbors\n",
      "RDKit WARNING: [13:57:24] WARNING: not removing hydrogen atom without neighbors\n",
      "RDKit WARNING: [13:57:24] WARNING: not removing hydrogen atom without neighbors\n",
      "RDKit WARNING: [13:57:24] WARNING: not removing hydrogen atom without neighbors\n",
      "RDKit ERROR: [13:57:25] Explicit valence for atom # 12 Si, 8, is greater than permitted\n",
      "RDKit WARNING: [13:57:25] WARNING: not removing hydrogen atom without neighbors\n",
      "RDKit WARNING: [13:57:25] WARNING: not removing hydrogen atom without neighbors\n",
      "RDKit WARNING: [13:57:25] WARNING: not removing hydrogen atom without neighbors\n",
      "RDKit WARNING: [13:57:25] WARNING: not removing hydrogen atom without neighbors\n",
      "RDKit WARNING: [13:57:25] WARNING: not removing hydrogen atom without neighbors\n",
      "RDKit WARNING: [13:57:25] WARNING: not removing hydrogen atom without neighbors\n",
      "RDKit WARNING: [13:57:25] WARNING: not removing hydrogen atom without neighbors\n",
      "RDKit WARNING: [13:57:25] WARNING: not removing hydrogen atom without neighbors\n",
      "RDKit WARNING: [13:57:25] WARNING: not removing hydrogen atom without neighbors\n",
      "RDKit WARNING: [13:57:25] WARNING: not removing hydrogen atom without neighbors\n",
      "RDKit WARNING: [13:57:25] WARNING: not removing hydrogen atom without neighbors\n",
      "RDKit ERROR: [13:57:25] Explicit valence for atom # 12 Si, 8, is greater than permitted\n",
      "RDKit WARNING: [13:57:25] WARNING: not removing hydrogen atom without neighbors\n",
      "RDKit WARNING: [13:57:25] WARNING: not removing hydrogen atom without neighbors\n",
      "RDKit WARNING: [13:57:25] WARNING: not removing hydrogen atom without neighbors\n",
      "RDKit WARNING: [13:57:26] WARNING: not removing hydrogen atom without neighbors\n",
      "RDKit WARNING: [13:57:26] WARNING: not removing hydrogen atom without neighbors\n",
      "RDKit WARNING: [13:57:26] WARNING: not removing hydrogen atom without neighbors\n",
      "RDKit WARNING: [13:57:26] WARNING: not removing hydrogen atom without neighbors\n",
      "RDKit WARNING: [13:57:26] WARNING: not removing hydrogen atom without neighbors\n",
      "RDKit WARNING: [13:57:26] WARNING: not removing hydrogen atom without neighbors\n",
      "RDKit WARNING: [13:57:26] WARNING: not removing hydrogen atom without neighbors\n",
      "RDKit WARNING: [13:57:26] WARNING: not removing hydrogen atom without neighbors\n",
      "RDKit WARNING: [13:57:26] WARNING: not removing hydrogen atom without neighbors\n"
     ]
    }
   ],
   "source": [
    "#First step: extract the bipyridines from the csv file and convert it into a list of Rd-kit Mol objects\n",
    "df=pd.read_csv('/Users/tarrago/Downloads/PubChem_compound_text_bipyridine_summary.csv')\n",
    "suppl=df['isosmiles'].values\n",
    "mol=[]\n",
    "for m1 in suppl:\n",
    "    Dumdum=Chem.MolFromSmiles(m1)\n",
    "    mol.append(Dumdum)"
   ]
  },
  {
   "cell_type": "code",
   "execution_count": 187,
   "id": "organizational-arnold",
   "metadata": {},
   "outputs": [
    {
     "data": {
      "image/png": "[encoded data removed]",
      "text/plain": [
       "<rdkit.Chem.rdchem.Mol at 0x123587a30>"
      ]
     },
     "execution_count": 187,
     "metadata": {},
     "output_type": "execute_result"
    }
   ],
   "source": [
    "# the list mol contains 11410 bipyridine. However, some of them are counted twice, some of them don't actually\n",
    "# contain bipyridines, and some of them contain\n",
    "# two molecules or more. In the next step, we want to get rid of the intruder molecules, not containing any \n",
    "#2,2-bipyridine. For instance:\n",
    "mol[11]"
   ]
  },
  {
   "cell_type": "code",
   "execution_count": 188,
   "id": "compressed-filing",
   "metadata": {},
   "outputs": [
    {
     "name": "stdout",
     "output_type": "stream",
     "text": [
      "11410\n"
     ]
    },
    {
     "name": "stderr",
     "output_type": "stream",
     "text": [
      "RDKit WARNING: [13:57:40] WARNING: not removing hydrogen atom without neighbors\n",
      "RDKit WARNING: [13:57:40] WARNING: not removing hydrogen atom without neighbors\n",
      "RDKit WARNING: [13:57:40] WARNING: not removing hydrogen atom without neighbors\n",
      "RDKit WARNING: [13:57:40] WARNING: not removing hydrogen atom without neighbors\n",
      "RDKit WARNING: [13:57:40] WARNING: not removing hydrogen atom without neighbors\n",
      "RDKit WARNING: [13:57:41] WARNING: not removing hydrogen atom without neighbors\n",
      "RDKit WARNING: [13:57:41] WARNING: not removing hydrogen atom without neighbors\n",
      "RDKit WARNING: [13:57:41] WARNING: not removing hydrogen atom without neighbors\n",
      "RDKit WARNING: [13:57:41] WARNING: not removing hydrogen atom without neighbors\n",
      "RDKit WARNING: [13:57:41] WARNING: not removing hydrogen atom without neighbors\n",
      "RDKit WARNING: [13:57:42] WARNING: not removing hydrogen atom without neighbors\n",
      "RDKit WARNING: [13:57:42] WARNING: not removing hydrogen atom without neighbors\n",
      "RDKit WARNING: [13:57:42] WARNING: not removing hydrogen atom without neighbors\n",
      "RDKit WARNING: [13:57:42] WARNING: not removing hydrogen atom without neighbors\n",
      "RDKit WARNING: [13:57:42] WARNING: not removing hydrogen atom without neighbors\n",
      "RDKit WARNING: [13:57:42] WARNING: not removing hydrogen atom without neighbors\n",
      "RDKit WARNING: [13:57:42] WARNING: not removing hydrogen atom without neighbors\n",
      "RDKit WARNING: [13:57:42] WARNING: not removing hydrogen atom without neighbors\n",
      "RDKit WARNING: [13:57:42] WARNING: not removing hydrogen atom without neighbors\n"
     ]
    }
   ],
   "source": [
    "# So here is a chunk of code to get rid of all non-conform objects:\n",
    "sub=Chem.MolFromSmiles('C1=CC=NC(=C1)C2=CC=CC=N2')\n",
    "ndoubles=[]\n",
    "print(len(mol))\n",
    "i=0\n",
    "while i < len(mol):\n",
    "    # Here the code gets rid of all objects containing either nothing, or no 2,2-bipyridine\n",
    "    if str((type(mol[i]))) != \"<class 'rdkit.Chem.rdchem.Mol'>\":\n",
    "        mol.remove(mol[i])\n",
    "    elif len(mol[i].GetSubstructMatches(sub)) == 0:\n",
    "        mol.remove(mol[i])\n",
    "    else:\n",
    "        S1=Chem.MolToSmiles(mol[i])\n",
    "        # This part gets rid of the extra molecules if there are more than one molecule in the fragment. Note that\n",
    "        # if several bipyridines are present in the object, only the last one will be kept.\n",
    "        if \".\" in S1:\n",
    "            Split=S1.split('.')\n",
    "            for j in range(0,len(Split)):\n",
    "                dumdum=Chem.MolFromSmiles(Split[j])\n",
    "                if len(dumdum.GetSubstructMatches(sub)) == 1:\n",
    "                    mol[i]=dumdum\n",
    "  \n",
    "        i = i+1\n"
   ]
  },
  {
   "cell_type": "code",
   "execution_count": 190,
   "id": "adjacent-effort",
   "metadata": {},
   "outputs": [
    {
     "data": {
      "image/png": "[encoded data removed]",
      "text/plain": [
       "<rdkit.Chem.rdchem.Mol at 0x1248658a0>"
      ]
     },
     "execution_count": 190,
     "metadata": {},
     "output_type": "execute_result"
    }
   ],
   "source": [
    "#Finally, for simplicity reason, we want to get rid of complicated motifs involving several bipyridines. That is because,\n",
    "# in the end, we simply want to constitute a library of sidechains with only one attachment point. Example of non conform\n",
    "# molecule here:\n",
    "mol[17]"
   ]
  },
  {
   "cell_type": "code",
   "execution_count": 191,
   "id": "marked-circumstances",
   "metadata": {},
   "outputs": [
    {
     "data": {
      "text/plain": [
       "5980"
      ]
     },
     "execution_count": 191,
     "metadata": {},
     "output_type": "execute_result"
    }
   ],
   "source": [
    "i=0\n",
    "while i < len(mol):\n",
    "    if len(mol[i].GetSubstructMatches(sub)) > 1 :\n",
    "        mol.remove(mol[i])\n",
    "    else:\n",
    "        i=i+1\n",
    "len(mol)"
   ]
  },
  {
   "cell_type": "code",
   "execution_count": 218,
   "id": "prepared-blackberry",
   "metadata": {},
   "outputs": [],
   "source": [
    "# There are still possible duplicates at this point. However, since we will get rid of the duplicates also once we\n",
    "# have extracted the sidechains, we do not care. \n",
    "#For now, let us focus on extracting the side chains. Of note, the following code fails for 12 exceptions (709,710, 924,\n",
    "# 1702,1704, 2180, 3777,3778,3778,5270, 5691,5822), due to the\n",
    "# fact that those were not actually bipyridines but went through the screening process anyways due to chemical similarity...\n",
    "chainlib=[]\n",
    "i=0\n",
    "for m1 in mol:\n",
    "    #print(i)\n",
    "    tmp=Chem.ReplaceCore(m1,sub,labelByIndex=True)\n",
    "    rs = Chem.GetMolFrags(tmp,asMols=True)\n",
    "    i=i+1\n",
    "    for rs1 in rs:\n",
    "        chainlib.append(rs1)"
   ]
  },
  {
   "cell_type": "code",
   "execution_count": 216,
   "id": "lonely-center",
   "metadata": {},
   "outputs": [],
   "source": [
    "mol"
   ]
  },
  {
   "cell_type": "code",
   "execution_count": 219,
   "id": "looking-latitude",
   "metadata": {},
   "outputs": [
    {
     "name": "stdout",
     "output_type": "stream",
     "text": [
      "10745\n"
     ]
    },
    {
     "data": {
      "text/plain": [
       "5756"
      ]
     },
     "execution_count": 219,
     "metadata": {},
     "output_type": "execute_result"
    }
   ],
   "source": [
    "# Of course due to (1) duplicates in the original bipyridine library and (2) identical sidechains, there are many \n",
    "#duplicates in this library. The next step is to eliminate these duplicates.\n",
    "print(len(chainlib))\n",
    "i=0\n",
    "while i < len(chainlib):\n",
    "    j=i+1\n",
    "    while j < len(chainlib):\n",
    "        if Chem.MolToSmiles(chainlib[i]) == Chem.MolToSmiles(chainlib[j]):\n",
    "            chainlib.remove(chainlib[j])\n",
    "        j=j+1\n",
    "    i=i+1\n",
    "    #print(i)\n",
    "len(chainlib)"
   ]
  },
  {
   "cell_type": "code",
   "execution_count": 220,
   "id": "better-compromise",
   "metadata": {},
   "outputs": [
    {
     "data": {
      "text/plain": [
       "5756"
      ]
     },
     "execution_count": 220,
     "metadata": {},
     "output_type": "execute_result"
    }
   ],
   "source": [
    "len(chainlib)"
   ]
  },
  {
   "cell_type": "code",
   "execution_count": 221,
   "id": "demographic-semester",
   "metadata": {},
   "outputs": [
    {
     "data": {
      "image/png": "[encoded data removed]",
      "text/plain": [
       "<rdkit.Chem.rdchem.Mol at 0x1241d7f30>"
      ]
     },
     "execution_count": 221,
     "metadata": {},
     "output_type": "execute_result"
    }
   ],
   "source": [
    "# Now we have our sidechains library. Here is an example of what it looks like. The attachment point of the sidechain \n",
    "# is replaced with a carbon isotop for labelling purpose. \n",
    "chainlib[2003]"
   ]
  },
  {
   "cell_type": "code",
   "execution_count": 127,
   "id": "mexican-budapest",
   "metadata": {},
   "outputs": [],
   "source": [
    "# in the following code, we define a set of functions that perform the following tasks:\n",
    "# (1) attach two predifined side-chains on two pre-defined positions of a Rhenium-bipyridine complex\n",
    "# (2) remove the isotop which is a convenient for labelling but not actually present in the side chain\n",
    "# (3) make an approximate geometry optimization of the molecule, build its xyz coordinates and write them in a \n",
    "# user-specified file\n",
    "# (4) apply (1), (2) and (3) to a user-defined number of randomly generated sets of side-chains and randomly-generated\n",
    "# attachment position. In final, this creates a set xyz-files describing randomly-generated Re-bipyridin complexes. \n",
    "# This will be used for later benchmark of semi-empirical methods."
   ]
  },
  {
   "cell_type": "code",
   "execution_count": 233,
   "id": "spread-macro",
   "metadata": {},
   "outputs": [],
   "source": [
    "#randomization-automation procedure\n",
    "def spawn_Rebpy(chain_library,nchains,nrep):\n",
    "    #step 1, randomly select a vector containing the chains. We suppose that there are only two lateral chains (one on each pyridine)\n",
    "    #embedded in the same For loop, we can also figure out a branching for the second chain\n",
    "    molvec=[]\n",
    "    for j in range(0,nrep):\n",
    "        #print(j)\n",
    "        pickabranch=[0,1,2,5,7,8,9,10]\n",
    "        Vecchain=[]\n",
    "        Vecbranch=[]\n",
    "        Randtrace=[]\n",
    "        for i in range(0,nchains):\n",
    "            Randnum=random.randint(0,len(chain_library)-1)\n",
    "            Randtrace.append(Randnum)\n",
    "            Randbranch=random.choice(pickabranch)\n",
    "            Vecchain.append(chain_library[Randnum])\n",
    "            Vecbranch.append(Randbranch)\n",
    "            pickabranch.remove(Randbranch)\n",
    "    # After that we should have random branchment points and random sidechains. We can build the molecule\n",
    "        mol=mybipybuilder(Vecchain,Vecbranch)\n",
    "        #print('sidechaines',Randtrace)\n",
    "        #print('attachment points',Vecbranch)\n",
    "        mol=isotop_cleaner(mol)\n",
    "        mol=carbonyls_adder(mol)\n",
    "        molvec.append(mol)\n",
    "    \n",
    "    return molvec"
   ]
  },
  {
   "cell_type": "code",
   "execution_count": 235,
   "id": "permanent-voluntary",
   "metadata": {},
   "outputs": [],
   "source": [
    "# Builds a bipyridine from a set of side-chains and their attachement position on the bipyridine motif (by index for\n",
    "# the mol object \"smi\") stored in two separate vectors. CAREFUL! The isotops are not removed by this function\n",
    "def mybipybuilder(sidechains,nbrancher):\n",
    "    smi=Chem.MolFromSmiles('c1cc[n+]2c(c1)-c1cccc[n+]1[Re]2')\n",
    "    Nats=[]\n",
    "    Nt=0\n",
    "    for s1 in sidechains:\n",
    "        s1=Chem.MolFromSmiles(Chem.MolToSmiles(s1))\n",
    "        #Nats.append(s1.GetNumAtoms())\n",
    "        Nt=Nt+s1.GetNumAtoms()\n",
    "        smi=Chem.CombineMols(s1,smi)\n",
    "    smitext=Chem.MolToSmiles(smi)\n",
    "    smi=Chem.MolFromSmiles(smitext)\n",
    "    #Here get the index of each atom, because the order of appearance of the fragments in the smile is not the same as the order of combination\n",
    "    #print(smitext)\n",
    "    smitext=smitext.split('.')\n",
    "   # print(smitext)\n",
    "    for ssmi in smitext:\n",
    "       \n",
    "        Ndum=Chem.MolFromSmiles(ssmi).GetNumAtoms()\n",
    "\n",
    "        Nats.append(Chem.MolFromSmiles(ssmi).GetNumAtoms())\n",
    "  #  print(Nats)\n",
    "  #  print(smitext)\n",
    "    smiedit=Chem.EditableMol(smi)\n",
    "    Attachpoint=0\n",
    "    smiedit.AddBond(Attachpoint,Nt+nbrancher[0])\n",
    "   # print('bond formed between',Attachpoint,Nt+nbrancher[0])\n",
    "    for i in range(1,len(nbrancher)):\n",
    "     #   print(i,Nats[i-1])\n",
    "        Attachpoint=Attachpoint+Nats[i-1]\n",
    "        smiedit.AddBond(Attachpoint,Nt+nbrancher[i])\n",
    "     #   print('bond formed between',Nats[i-1],Nt+nbrancher[i])\n",
    "    newsmi=smiedit.GetMol()\n",
    "   \n",
    "    return newsmi"
   ]
  },
  {
   "cell_type": "code",
   "execution_count": 231,
   "id": "seven-fight",
   "metadata": {},
   "outputs": [],
   "source": [
    "# removes the isotopes and atach the isotop neighbours together\n",
    "def isotop_cleaner(mol):\n",
    "    #step 1: identify the index of the isotopes\n",
    "    indx=mol.GetSubstructMatches(Chem.MolFromSmiles('*'))\n",
    "    indx2=[]\n",
    "    for i in indx:\n",
    "        indx2.append(i[0])\n",
    "    #Step 2: identify the atoms bonded to the isotops\n",
    "    bound=[]\n",
    "    j=0\n",
    "    for i in indx2:\n",
    "        bound.append([])\n",
    "        for k in range(0,mol.GetNumAtoms()):\n",
    "            Hello=mol.GetBondBetweenAtoms(i,k)\n",
    "            if type(Hello) == Chem.rdchem.Bond:\n",
    "                bound[j].append(k)\n",
    "                #print(bound)\n",
    "        j=j+1\n",
    "    #Step 3 Now we remove the isotops and reattach the neighbours of the isotops:\n",
    "    j=0\n",
    "    moledit=Chem.EditableMol(mol)\n",
    "    for i in range(0,len(indx)):\n",
    "        moledit.RemoveAtom(indx2[i])\n",
    "        # Now we need to change the index in bound if there needs to be\n",
    "        j=0\n",
    "        for j in range(0,len(bound)):\n",
    "         #   print(bound,j)\n",
    "            if bound[j][0] > indx2[i]:\n",
    "                bound[j][0]=bound[j][0]-1\n",
    "            if bound[j][1] > indx2[i]:\n",
    "                bound[j][1]=bound[j][1]-1\n",
    "        j=0\n",
    "        for j in range (i,len(indx)):\n",
    "            if indx2[j] > indx2[i]:\n",
    "                indx2[j]=indx2[j]-1\n",
    "        moledit.AddBond(bound[i][0],bound[i][1])\n",
    "    mol=moledit.GetMol()\n",
    "   # mol=Chem.RemoveHs(mol)\n",
    "    mol2=Chem.MolToSmiles(mol)\n",
    "    mol2=mol2.replace('~','-')\n",
    "    mol=Chem.MolFromSmiles(mol2,sanitize=False)\n",
    "   # mol=Chem.RemoveHs(mol)\n",
    "    return mol"
   ]
  },
  {
   "cell_type": "code",
   "execution_count": 160,
   "id": "basic-plenty",
   "metadata": {},
   "outputs": [],
   "source": [
    "#Adds the bipyridine to a Re(CO)3 motif.\n",
    "def carbonyls_adder(mol):\n",
    "    mol2=Chem.MolToSmiles(mol)\n",
    "    mol3=mol2.split('[Re]')\n",
    "    mol2=mol3[0]+'[Re](C#[O+])(C#[O+])(C#[O+])'+mol3[1]\n",
    "    mol=Chem.MolFromSmiles(mol2)\n",
    "    return mol"
   ]
  },
  {
   "cell_type": "code",
   "execution_count": 223,
   "id": "first-innocent",
   "metadata": {},
   "outputs": [],
   "source": [
    "#Before going to the next step, we must also remove the \"bidentate\" side-chains for simplicity reasons\n",
    "delete_sick=[]\n",
    "for i in range(0,len(chainlib)):\n",
    "    if len(chainlib[i].GetSubstructMatches(Chem.MolFromSmiles('*'))) != 1:\n",
    "        delete_sick.append(chainlib[i])\n",
    "        "
   ]
  },
  {
   "cell_type": "code",
   "execution_count": 224,
   "id": "residential-messenger",
   "metadata": {},
   "outputs": [],
   "source": [
    "for i in delete_sick:\n",
    "    chainlib.remove(i)"
   ]
  },
  {
   "cell_type": "code",
   "execution_count": 225,
   "id": "wireless-graphic",
   "metadata": {},
   "outputs": [
    {
     "data": {
      "text/plain": [
       "5613"
      ]
     },
     "execution_count": 225,
     "metadata": {},
     "output_type": "execute_result"
    }
   ],
   "source": [
    "len(chainlib)"
   ]
  },
  {
   "cell_type": "code",
   "execution_count": 236,
   "id": "superb-gates",
   "metadata": {},
   "outputs": [],
   "source": [
    "#Now the random library can be generated\n",
    "nchains=2\n",
    "nrep=100\n",
    "sample=spawn_Rebpy(chainlib,nchains,nrep)"
   ]
  },
  {
   "cell_type": "code",
   "execution_count": 237,
   "id": "equal-partner",
   "metadata": {},
   "outputs": [
    {
     "data": {
      "image/png": "[encoded data removed]",
      "text/plain": [
       "<rdkit.Chem.rdchem.Mol at 0x12382bdf0>"
      ]
     },
     "execution_count": 237,
     "metadata": {},
     "output_type": "execute_result"
    }
   ],
   "source": [
    "# Here is one example of generated bipyridine:\n",
    "sample[93]"
   ]
  },
  {
   "cell_type": "code",
   "execution_count": 238,
   "id": "quiet-terry",
   "metadata": {},
   "outputs": [
    {
     "data": {
      "image/png": "[encoded data removed]",
      "text/plain": [
       "<rdkit.Chem.rdchem.Mol at 0x123339c10>"
      ]
     },
     "execution_count": 238,
     "metadata": {},
     "output_type": "execute_result"
    }
   ],
   "source": [
    "# Another example...\n",
    "sample[57]"
   ]
  },
  {
   "cell_type": "code",
   "execution_count": 178,
   "id": "naked-oriental",
   "metadata": {},
   "outputs": [],
   "source": [
    "#Finally, we now write the content of the sample list into xyz files in a chosen directory. For that, we create\n",
    "# an approximate 3D structure using the ETKDG method as implemented in Rdkit. Note that the starting geometry \n",
    "# is nowhere near an equilibrium geometry and will require an additionnal geometry optimization. \n",
    "# FF optimization with Re is not implemented in Rdkit unfortunately. However, the embedding allows a starting geometry \n",
    "# with not-too-awful angles and bond lengths, and most importantly, no overlapping atoms.\n",
    "# This way, with the appropriate scripts/QM/FF package, the starting geometry can be directly optimized without \n",
    "# additional user input."
   ]
  },
  {
   "cell_type": "code",
   "execution_count": 179,
   "id": "double-bahrain",
   "metadata": {},
   "outputs": [],
   "source": [
    "# write a specified number of xyz files. Also stores the molecules under the form of smiles in a text file \n",
    "# in the same folder, as well as a list of the total charge for each complex \n",
    "# (CAREFUL:he charge has a systematice error of +5 for each system in the present implementation due to the arbitrary \n",
    "# 0 charge of the rhenium) \n",
    "def write_xyzfiles(chainlib,nchains,nrep,place):\n",
    "    try:\n",
    "        sample=spawn_Rebpy(chainlib,nchains,nrep)\n",
    "    except:\n",
    "        pass\n",
    "    indx=0\n",
    "    place2=place\n",
    "    for mol in sample:\n",
    "        xyz_generator(mol,place,indx)\n",
    "        indx=indx+1\n",
    "    smiles_generator(place2,sample)\n",
    "    return sample"
   ]
  },
  {
   "cell_type": "code",
   "execution_count": 180,
   "id": "simple-somerset",
   "metadata": {},
   "outputs": [],
   "source": [
    "def smiles_generator(place,samp):\n",
    "    placeX=place+'/smiles-index'\n",
    "    print(place)\n",
    "    file1=open(placeX,'w+')\n",
    "    for sa in samp:\n",
    "        file1.write(Chem.MolToSmiles(sa)+'\\n')\n",
    "    file1.close()\n",
    "    placeY=place+'/chargefile'\n",
    "    file1=open(placeY,'w+')\n",
    "    for sa in samp:\n",
    "        file1.write(str(Chem.GetFormalCharge(sa))+'\\n')\n",
    "    file1.close()"
   ]
  },
  {
   "cell_type": "code",
   "execution_count": 182,
   "id": "boring-technical",
   "metadata": {},
   "outputs": [],
   "source": [
    "# and the proper program to generate and store the 3d structure of a given Mol object\n",
    "def xyz_generator(mol,place,indx):  \n",
    "    if type(mol) is not None:\n",
    "        place=place+'/Rebipy-'+str(indx)+'.xyz'\n",
    "        mol2=Chem.AddHs(mol)\n",
    "        N=mol2.GetNumAtoms()\n",
    "        AllChem.EmbedMolecule(mol2,randomSeed=0xf00d)\n",
    "        print(Chem.MolToMolBlock(mol2),file=open(place,'w+'))\n",
    "        #file.close()\n",
    "        file=open(place,'r')\n",
    "        lines=file.readlines()\n",
    "        file.close()\n",
    "        file=open(place,'w+')\n",
    "        file.write(str(N)+'\\n')\n",
    "        file.write('This xyz file has been randomly generated!\\n')\n",
    "        for i in range (4,N+4):\n",
    "            linesp=lines[i].split()\n",
    "            linetowrite=linesp[3]+' '+linesp[0]+' '+linesp[1]+' '+linesp[2]+'\\n'\n",
    "            file.write(linetowrite)\n",
    "    else:\n",
    "        place=place+'/Rebipy-'+str(indx)+'.xyz'\n",
    "        file=open(place,'w+')\n",
    "        file.write('Empty mol file :(')\n",
    "        print('ho-ho, we have a problem...')\n",
    "    file.close"
   ]
  },
  {
   "cell_type": "code",
   "execution_count": 242,
   "id": "senior-consumer",
   "metadata": {},
   "outputs": [
    {
     "name": "stderr",
     "output_type": "stream",
     "text": [
      "RDKit ERROR: [15:50:36] UFFTYPER: Unrecognized atom type: Re6 (46)\n",
      "RDKit ERROR: [15:50:36] UFFTYPER: Unrecognized atom type: Re6 (33)\n",
      "RDKit ERROR: [15:50:36] UFFTYPER: Unrecognized atom type: Re6 (21)\n",
      "RDKit ERROR: [15:50:36] UFFTYPER: Unrecognized atom type: Re6 (32)\n",
      "RDKit ERROR: [15:50:37] UFFTYPER: Unrecognized atom type: Re6 (17)\n",
      "RDKit ERROR: [15:50:37] UFFTYPER: Unrecognized atom type: Re6 (33)\n",
      "RDKit ERROR: [15:50:37] UFFTYPER: Unrecognized atom type: Re6 (16)\n",
      "RDKit ERROR: [15:50:37] UFFTYPER: Unrecognized atom type: Re6 (86)\n",
      "RDKit ERROR: [15:50:39] UFFTYPER: Unrecognized atom type: Re6 (39)\n",
      "RDKit ERROR: [15:50:39] UFFTYPER: Unrecognized atom type: Re6 (28)\n",
      "RDKit ERROR: [15:50:39] UFFTYPER: Unrecognized atom type: Re6 (10)\n",
      "RDKit ERROR: [15:50:39] UFFTYPER: Unrecognized atom type: Re6 (28)\n",
      "RDKit ERROR: [15:50:39] UFFTYPER: Unrecognized atom type: Re6 (42)\n",
      "RDKit ERROR: [15:50:40] UFFTYPER: Unrecognized atom type: Re6 (12)\n",
      "RDKit ERROR: [15:50:40] UFFTYPER: Unrecognized atom type: Re6 (25)\n",
      "RDKit ERROR: [15:50:40] UFFTYPER: Unrecognized atom type: Re6 (66)\n",
      "RDKit ERROR: [15:50:41] UFFTYPER: Unrecognized atom type: Re6 (45)\n",
      "RDKit ERROR: [15:50:41] UFFTYPER: Unrecognized atom type: Re6 (21)\n",
      "RDKit ERROR: [15:50:42] UFFTYPER: Unrecognized atom type: Re6 (31)\n",
      "RDKit ERROR: [15:50:42] UFFTYPER: Unrecognized atom type: Re6 (62)\n",
      "RDKit ERROR: [15:50:48] UFFTYPER: Unrecognized atom type: Re6 (25)\n",
      "RDKit ERROR: [15:50:48] UFFTYPER: Unrecognized atom type: Re6 (28)\n",
      "RDKit ERROR: [15:50:48] UFFTYPER: Unrecognized atom type: Re6 (16)\n",
      "RDKit ERROR: [15:50:48] UFFTYPER: Unrecognized atom type: Re6 (34)\n",
      "RDKit ERROR: [15:50:48] UFFTYPER: Unrecognized charge state for atom: 6\n",
      "RDKit ERROR: [15:50:48] UFFTYPER: Unrecognized atom type: Re6 (16)\n",
      "RDKit ERROR: [15:50:48] UFFTYPER: Unrecognized atom type: Re6 (39)\n",
      "RDKit ERROR: [15:50:49] UFFTYPER: Unrecognized atom type: Re6 (22)\n",
      "RDKit ERROR: [15:50:49] UFFTYPER: Unrecognized atom type: Re6 (26)\n",
      "RDKit ERROR: [15:50:49] UFFTYPER: Unrecognized atom type: Re6 (55)\n",
      "RDKit ERROR: [15:50:51] UFFTYPER: Unrecognized charge state for atom: 2\n",
      "RDKit ERROR: [15:50:51] UFFTYPER: Unrecognized atom type: Re6 (11)\n",
      "RDKit ERROR: [15:50:51] UFFTYPER: Unrecognized atom type: Re6 (42)\n",
      "RDKit ERROR: [15:50:52] UFFTYPER: Unrecognized charge state for atom: 2\n",
      "RDKit ERROR: [15:50:52] UFFTYPER: Unrecognized atom type: Re6 (16)\n",
      "RDKit ERROR: [15:50:52] UFFTYPER: Unrecognized atom type: Re6 (24)\n",
      "RDKit ERROR: [15:50:52] UFFTYPER: Unrecognized atom type: Re6 (21)\n",
      "RDKit ERROR: [15:50:52] UFFTYPER: Unrecognized atom type: Re6 (40)\n",
      "RDKit ERROR: [15:50:52] UFFTYPER: Unrecognized atom type: Re6 (22)\n",
      "RDKit ERROR: [15:50:53] UFFTYPER: Unrecognized atom type: Re6 (29)\n",
      "RDKit ERROR: [15:50:53] UFFTYPER: Unrecognized atom type: Re6 (16)\n",
      "RDKit ERROR: [15:50:53] UFFTYPER: Unrecognized atom type: Re6 (44)\n",
      "RDKit ERROR: [15:50:53] UFFTYPER: Unrecognized atom type: Re6 (52)\n",
      "RDKit ERROR: [15:50:54] UFFTYPER: Unrecognized atom type: Re6 (48)\n",
      "RDKit ERROR: [15:50:54] UFFTYPER: Unrecognized atom type: Re6 (12)\n",
      "RDKit ERROR: [15:50:54] UFFTYPER: Unrecognized atom type: Re6 (34)\n",
      "RDKit ERROR: [15:50:54] UFFTYPER: Unrecognized atom type: Re6 (43)\n",
      "RDKit ERROR: [15:50:54] UFFTYPER: Unrecognized atom type: Re6 (13)\n",
      "RDKit ERROR: [15:50:55] UFFTYPER: Unrecognized atom type: Re6 (31)\n",
      "RDKit ERROR: [15:50:55] UFFTYPER: Unrecognized atom type: Re6 (8)\n",
      "RDKit ERROR: [15:50:56] UFFTYPER: Unrecognized atom type: Re6 (32)\n",
      "RDKit ERROR: [15:50:56] UFFTYPER: Unrecognized atom type: Re6 (26)\n",
      "RDKit ERROR: [15:50:56] UFFTYPER: Unrecognized atom type: Re6 (22)\n",
      "RDKit ERROR: [15:50:56] UFFTYPER: Unrecognized atom type: Re6 (37)\n",
      "RDKit ERROR: [15:50:59] UFFTYPER: Unrecognized atom type: Re6 (41)\n",
      "RDKit ERROR: [15:50:59] UFFTYPER: Unrecognized atom type: Re6 (48)\n",
      "RDKit ERROR: [15:50:59] UFFTYPER: Unrecognized atom type: Re6 (21)\n",
      "RDKit ERROR: [15:51:00] UFFTYPER: Unrecognized atom type: Re6 (31)\n",
      "RDKit ERROR: [15:51:00] UFFTYPER: Unrecognized atom type: Re6 (17)\n",
      "RDKit ERROR: [15:51:00] UFFTYPER: Unrecognized atom type: Re6 (29)\n",
      "RDKit ERROR: [15:51:00] UFFTYPER: Unrecognized charge state for atom: 2\n",
      "RDKit WARNING: [15:51:00] UFFTYPER: Warning: hybridization set to SP3 for atom 8\n",
      "RDKit ERROR: [15:51:00] UFFTYPER: Unrecognized charge state for atom: 8\n",
      "RDKit ERROR: [15:51:00] UFFTYPER: Unrecognized atom type: Re6 (20)\n",
      "RDKit ERROR: [15:51:00] UFFTYPER: Unrecognized atom type: Re6 (61)\n",
      "RDKit ERROR: [15:51:01] UFFTYPER: Unrecognized atom type: Re6 (21)\n",
      "RDKit ERROR: [15:51:01] UFFTYPER: Unrecognized atom type: Re6 (23)\n",
      "RDKit ERROR: [15:51:01] UFFTYPER: Unrecognized atom type: Re6 (40)\n",
      "RDKit ERROR: [15:51:01] UFFTYPER: Unrecognized atom type: Re6 (28)\n",
      "RDKit ERROR: [15:51:01] UFFTYPER: Unrecognized atom type: Re6 (23)\n",
      "RDKit ERROR: [15:51:02] UFFTYPER: Unrecognized atom type: Re6 (18)\n",
      "RDKit ERROR: [15:51:02] UFFTYPER: Unrecognized atom type: Re6 (12)\n",
      "RDKit ERROR: [15:51:02] UFFTYPER: Unrecognized atom type: Re6 (27)\n",
      "RDKit ERROR: [15:51:02] UFFTYPER: Unrecognized atom type: Re6 (38)\n",
      "RDKit ERROR: [15:51:02] UFFTYPER: Unrecognized charge state for atom: 2\n",
      "RDKit ERROR: [15:51:02] UFFTYPER: Unrecognized atom type: Re6 (29)\n",
      "RDKit ERROR: [15:51:03] UFFTYPER: Unrecognized atom type: Re6 (58)\n",
      "RDKit ERROR: [15:51:03] UFFTYPER: Unrecognized atom type: Re6 (47)\n",
      "RDKit ERROR: [15:51:03] UFFTYPER: Unrecognized atom type: Re6 (27)\n",
      "RDKit ERROR: [15:51:03] UFFTYPER: Unrecognized atom type: Re6 (17)\n",
      "RDKit ERROR: [15:51:03] UFFTYPER: Unrecognized atom type: Re6 (17)\n",
      "RDKit ERROR: [15:51:04] UFFTYPER: Unrecognized atom type: Re6 (31)\n",
      "RDKit ERROR: [15:51:04] UFFTYPER: Unrecognized atom type: Re6 (29)\n",
      "RDKit ERROR: [15:51:05] UFFTYPER: Unrecognized atom type: Re6 (28)\n",
      "RDKit ERROR: [15:51:05] UFFTYPER: Unrecognized atom type: Re6 (27)\n",
      "RDKit ERROR: [15:51:05] UFFTYPER: Unrecognized atom type: Re6 (29)\n",
      "RDKit WARNING: [15:51:05] UFFTYPER: Warning: hybridization set to SP3 for atom 3\n",
      "RDKit ERROR: [15:51:05] UFFTYPER: Unrecognized charge state for atom: 3\n",
      "RDKit ERROR: [15:51:05] UFFTYPER: Unrecognized atom type: Re6 (26)\n",
      "RDKit ERROR: [15:51:05] UFFTYPER: Unrecognized atom type: Re6 (57)\n",
      "RDKit ERROR: [15:51:06] UFFTYPER: Unrecognized atom type: Re6 (37)\n",
      "RDKit ERROR: [15:51:07] UFFTYPER: Unrecognized atom type: Re6 (54)\n",
      "RDKit ERROR: [15:51:07] UFFTYPER: Unrecognized atom type: Re6 (20)\n",
      "RDKit ERROR: [15:51:07] UFFTYPER: Unrecognized atom type: Re6 (39)\n",
      "RDKit ERROR: [15:51:07] UFFTYPER: Unrecognized atom type: Re6 (35)\n",
      "RDKit ERROR: [15:51:07] UFFTYPER: Unrecognized atom type: Re6 (28)\n",
      "RDKit ERROR: [15:51:08] UFFTYPER: Unrecognized atom type: Re6 (26)\n",
      "RDKit ERROR: [15:51:08] UFFTYPER: Unrecognized atom type: Re6 (35)\n",
      "RDKit ERROR: [15:51:08] UFFTYPER: Unrecognized atom type: Re6 (43)\n",
      "RDKit ERROR: [15:51:09] UFFTYPER: Unrecognized atom type: Re6 (55)\n",
      "RDKit ERROR: [15:51:10] UFFTYPER: Unrecognized atom type: Re6 (34)\n",
      "RDKit ERROR: [15:51:10] UFFTYPER: Unrecognized atom type: Re6 (48)\n",
      "RDKit ERROR: [15:51:10] UFFTYPER: Unrecognized atom type: Re6 (25)\n",
      "RDKit ERROR: [15:51:11] UFFTYPER: Unrecognized atom type: Re6 (51)\n",
      "RDKit ERROR: [15:51:11] UFFTYPER: Unrecognized atom type: Re6 (23)\n",
      "RDKit ERROR: [15:51:11] UFFTYPER: Unrecognized atom type: Re6 (38)\n",
      "RDKit ERROR: [15:51:11] UFFTYPER: Unrecognized atom type: Re6 (28)\n",
      "RDKit ERROR: [15:51:12] UFFTYPER: Unrecognized atom type: Re6 (16)\n",
      "RDKit ERROR: [15:51:12] UFFTYPER: Unrecognized atom type: Re6 (35)\n"
     ]
    },
    {
     "name": "stdout",
     "output_type": "stream",
     "text": [
      "/Users/tarrago/Documents/personal-project\n"
     ]
    }
   ],
   "source": [
    "# Now we can give it a try...\n",
    "place='/Users/tarrago/Documents/personal-project' #This is where I want my xyzfiles stored\n",
    "echantillon=write_xyzfiles(chainlib,nchains,nrep,place)"
   ]
  },
  {
   "cell_type": "code",
   "execution_count": 243,
   "id": "available-tours",
   "metadata": {},
   "outputs": [
    {
     "data": {
      "text/plain": [
       "100"
      ]
     },
     "execution_count": 243,
     "metadata": {},
     "output_type": "execute_result"
    }
   ],
   "source": [
    "# We can see that the program complains a lot about the Re, as emphasize above. But the rest of the atoms are decently \n",
    "# organized, if not optimized. The xyzfiles are stored in the specified diretory, ready to be used by a QM package,\n",
    "# or visualized with an appropriate software (chemcraft, chimera, avogadto...)\n",
    "len(echantillon)"
   ]
  },
  {
   "cell_type": "code",
   "execution_count": null,
   "id": "developmental-bradford",
   "metadata": {},
   "outputs": [],
   "source": []
  }
 ],
 "metadata": {
  "kernelspec": {
   "display_name": "Python [conda env:my-rdkit-env] *",
   "language": "python",
   "name": "conda-env-my-rdkit-env-py"
  }
 },
 "nbformat": 4,
 "nbformat_minor": 5
}
