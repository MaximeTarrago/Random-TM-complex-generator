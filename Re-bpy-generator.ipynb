{
 "cells": [
  {
   "cell_type": "code",
   "execution_count": 1,
   "id": "fuzzy-visit",
   "metadata": {},
   "outputs": [],
   "source": [
    "from rdkit import Chem\n",
    "import pandas as pd\n",
    "from rdkit.Chem.rdmolfiles import SDMolSupplier\n",
    "from rdkit.Chem import AllChem\n",
    "from rdkit.Chem import Descriptors\n",
    "from rdkit.Chem.Draw import IPythonConsole\n",
    "import re\n",
    "import random\n",
    "IPythonConsole.drawOptions.addAtomIndices = True"
   ]
  },
  {
   "cell_type": "code",
   "execution_count": null,
   "id": "cosmetic-filename",
   "metadata": {},
   "outputs": [],
   "source": [
    "\"\"\"\n",
    "This program shows how to extract a library of bipyridine sidechains from an open-source csv file containg about \n",
    "10 000 bipyridine ligand and writing those sidechains as smiles in a text file to re-used later (part 1). \n",
    "Then it shows how to use this bipyridine library to generate a large amount of cartesian coordinates of Re(bpy)(CO)3 \n",
    "complexes with random side-chains (part 2), to be optimized by semi-empirical methods in a later program.\n",
    "In the long run, this program is a key component of a larger program aiming at optimizing the side-chains of \n",
    "Re-bipy complexes for optimal CO2 reduction reactivity, using both QM and Machine Learning.\n",
    "\"\"\""
   ]
  },
  {
   "cell_type": "code",
   "execution_count": 203,
   "id": "future-quantity",
   "metadata": {},
   "outputs": [],
   "source": [
    "\"\"\"\n",
    "functions used for part 1:\n",
    "\"\"\"\n",
    "\n",
    "def MolWithoutIsotopesToSmiles(mol):\n",
    "    \n",
    "    \"\"\"\n",
    "    Returns a smile string.\n",
    "    Function taken from an outside source. removes the isotope information which is unnecessary and leads our \n",
    "    algorithm to mistakenly assign same molecules as different.\n",
    "    Parameter:\n",
    "    mol (rdkit mol object): \n",
    "    \"\"\"\n",
    "    \n",
    "    atom_data = [(atom, atom.GetIsotope()) for atom in mol.GetAtoms()]\n",
    "    for atom, isotope in atom_data:\n",
    "        if isotope:\n",
    "            atom.SetIsotope(0)\n",
    "    smiles = Chem.MolToSmiles(mol)\n",
    "    return smiles"
   ]
  },
  {
   "cell_type": "code",
   "execution_count": 569,
   "id": "impaired-effort",
   "metadata": {},
   "outputs": [
    {
     "name": "stderr",
     "output_type": "stream",
     "text": [
      "RDKit WARNING: [10:43:44] WARNING: not removing hydrogen atom without neighbors\n",
      "RDKit WARNING: [10:43:44] WARNING: not removing hydrogen atom without neighbors\n",
      "RDKit WARNING: [10:43:44] WARNING: not removing hydrogen atom without neighbors\n",
      "RDKit WARNING: [10:43:44] WARNING: not removing hydrogen atom without neighbors\n",
      "RDKit WARNING: [10:43:44] WARNING: not removing hydrogen atom without neighbors\n",
      "RDKit WARNING: [10:43:44] WARNING: not removing hydrogen atom without neighbors\n",
      "RDKit WARNING: [10:43:44] WARNING: not removing hydrogen atom without neighbors\n",
      "RDKit WARNING: [10:43:45] WARNING: not removing hydrogen atom without neighbors\n",
      "RDKit WARNING: [10:43:46] WARNING: not removing hydrogen atom without neighbors\n",
      "RDKit WARNING: [10:43:46] WARNING: not removing hydrogen atom without neighbors\n",
      "RDKit WARNING: [10:43:46] WARNING: not removing hydrogen atom without neighbors\n",
      "RDKit WARNING: [10:43:46] WARNING: not removing hydrogen atom without neighbors\n",
      "RDKit ERROR: [10:43:46] Explicit valence for atom # 12 Si, 8, is greater than permitted\n",
      "RDKit WARNING: [10:43:46] WARNING: not removing hydrogen atom without neighbors\n",
      "RDKit WARNING: [10:43:46] WARNING: not removing hydrogen atom without neighbors\n",
      "RDKit WARNING: [10:43:46] WARNING: not removing hydrogen atom without neighbors\n",
      "RDKit WARNING: [10:43:46] WARNING: not removing hydrogen atom without neighbors\n",
      "RDKit WARNING: [10:43:46] WARNING: not removing hydrogen atom without neighbors\n",
      "RDKit WARNING: [10:43:46] WARNING: not removing hydrogen atom without neighbors\n",
      "RDKit WARNING: [10:43:46] WARNING: not removing hydrogen atom without neighbors\n",
      "RDKit WARNING: [10:43:46] WARNING: not removing hydrogen atom without neighbors\n",
      "RDKit WARNING: [10:43:46] WARNING: not removing hydrogen atom without neighbors\n",
      "RDKit WARNING: [10:43:46] WARNING: not removing hydrogen atom without neighbors\n",
      "RDKit WARNING: [10:43:46] WARNING: not removing hydrogen atom without neighbors\n",
      "RDKit ERROR: [10:43:47] Explicit valence for atom # 12 Si, 8, is greater than permitted\n",
      "RDKit WARNING: [10:43:47] WARNING: not removing hydrogen atom without neighbors\n",
      "RDKit WARNING: [10:43:47] WARNING: not removing hydrogen atom without neighbors\n",
      "RDKit WARNING: [10:43:47] WARNING: not removing hydrogen atom without neighbors\n",
      "RDKit WARNING: [10:43:47] WARNING: not removing hydrogen atom without neighbors\n",
      "RDKit WARNING: [10:43:47] WARNING: not removing hydrogen atom without neighbors\n",
      "RDKit WARNING: [10:43:47] WARNING: not removing hydrogen atom without neighbors\n",
      "RDKit WARNING: [10:43:47] WARNING: not removing hydrogen atom without neighbors\n",
      "RDKit WARNING: [10:43:47] WARNING: not removing hydrogen atom without neighbors\n",
      "RDKit WARNING: [10:43:47] WARNING: not removing hydrogen atom without neighbors\n",
      "RDKit WARNING: [10:43:47] WARNING: not removing hydrogen atom without neighbors\n",
      "RDKit WARNING: [10:43:47] WARNING: not removing hydrogen atom without neighbors\n",
      "RDKit WARNING: [10:43:47] WARNING: not removing hydrogen atom without neighbors\n"
     ]
    },
    {
     "data": {
      "text/plain": [
       "11410"
      ]
     },
     "execution_count": 569,
     "metadata": {},
     "output_type": "execute_result"
    }
   ],
   "source": [
    "\"\"\"\n",
    "We have downloaded from PubChem a large amount of bipyridine compound in the form of a csv file. Luckily, the smiles\n",
    "are available in this dataset, so they can be directly converted into rdkit mol objects. This is what this code is \n",
    "doing.\n",
    "\"\"\"\n",
    "df = pd.read_csv('/Users/tarrago/Downloads/PubChem_compound_text_bipyridine_summary.csv')\n",
    "suppl = df['isosmiles'].values\n",
    "mol = []\n",
    "i=0\n",
    "for m1 in suppl:\n",
    "    Dumdum = Chem.MolFromSmiles(m1)\n",
    "    mol.append(Dumdum)\n",
    "len(mol)"
   ]
  },
  {
   "cell_type": "code",
   "execution_count": 570,
   "id": "provincial-klein",
   "metadata": {},
   "outputs": [
    {
     "name": "stderr",
     "output_type": "stream",
     "text": [
      "RDKit WARNING: [10:43:53] WARNING: not removing hydrogen atom without neighbors\n",
      "RDKit WARNING: [10:43:53] WARNING: not removing hydrogen atom without neighbors\n",
      "RDKit WARNING: [10:43:53] WARNING: not removing hydrogen atom without neighbors\n",
      "RDKit WARNING: [10:43:53] WARNING: not removing hydrogen atom without neighbors\n",
      "RDKit WARNING: [10:43:53] WARNING: not removing hydrogen atom without neighbors\n",
      "RDKit WARNING: [10:43:54] WARNING: not removing hydrogen atom without neighbors\n",
      "RDKit WARNING: [10:43:54] WARNING: not removing hydrogen atom without neighbors\n",
      "RDKit WARNING: [10:43:54] WARNING: not removing hydrogen atom without neighbors\n",
      "RDKit WARNING: [10:43:54] WARNING: not removing hydrogen atom without neighbors\n",
      "RDKit WARNING: [10:43:54] WARNING: not removing hydrogen atom without neighbors\n",
      "RDKit WARNING: [10:43:55] WARNING: not removing hydrogen atom without neighbors\n",
      "RDKit WARNING: [10:43:55] WARNING: not removing hydrogen atom without neighbors\n",
      "RDKit WARNING: [10:43:55] WARNING: not removing hydrogen atom without neighbors\n",
      "RDKit WARNING: [10:43:55] WARNING: not removing hydrogen atom without neighbors\n",
      "RDKit WARNING: [10:43:55] WARNING: not removing hydrogen atom without neighbors\n",
      "RDKit WARNING: [10:43:55] WARNING: not removing hydrogen atom without neighbors\n",
      "RDKit WARNING: [10:43:55] WARNING: not removing hydrogen atom without neighbors\n",
      "RDKit WARNING: [10:43:55] WARNING: not removing hydrogen atom without neighbors\n",
      "RDKit WARNING: [10:43:55] WARNING: not removing hydrogen atom without neighbors\n"
     ]
    },
    {
     "data": {
      "text/plain": [
       "7770"
      ]
     },
     "execution_count": 570,
     "metadata": {},
     "output_type": "execute_result"
    }
   ],
   "source": [
    "\"\"\"\n",
    "The error message \"WARNING: not removing hydrogen atom without neighbors\" is irrelevant. we will remove those \n",
    "hydrogens in the following code. \n",
    "The list mol contains 11410 objects. However, some of these objects are 2,2'-bipyridine counted twice, some of them \n",
    "don't actually contain bipyridines, some contain bipyridines but not 2,2-bipyridines and some of them contain\n",
    "two molecules or more. In the next step, we want to get rid of the intruder molecules. Here, we remove: \n",
    "- empty objects\n",
    "- all objects not containing a 2,2'-bipyridine motif\n",
    "- if there are more than one molecule in the object, only one molecule containing a bipyridine is kept and all other \n",
    "molecules are discarded.\n",
    "\n",
    "This reduces our number of moleculaes do\n",
    "\"\"\"\n",
    "\n",
    "sub = Chem.MolFromSmiles('C1=CC=NC(=C1)C2=CC=CC=N2')\n",
    "i=0\n",
    "while i < len(mol):\n",
    "    if str((type(mol[i]))) != \"<class 'rdkit.Chem.rdchem.Mol'>\":\n",
    "        del mol[i]\n",
    "    elif len(mol[i].GetSubstructMatches(sub)) == 0:\n",
    "        del mol[i]\n",
    "    else:\n",
    "        S1=Chem.MolToSmiles(mol[i])\n",
    "        if \".\" in S1:\n",
    "            Split = S1.split('.')\n",
    "            for j in Split:\n",
    "                dumdum = Chem.MolFromSmiles(j)\n",
    "                if len(dumdum.GetSubstructMatches(sub)) == 1:\n",
    "                    mol.append(dumdum)\n",
    "            del mol[i]\n",
    "        else:\n",
    "            i = i+1\n",
    "len(mol)"
   ]
  },
  {
   "cell_type": "code",
   "execution_count": 571,
   "id": "fancy-instruction",
   "metadata": {},
   "outputs": [
    {
     "data": {
      "text/plain": [
       "6613"
      ]
     },
     "execution_count": 571,
     "metadata": {},
     "output_type": "execute_result"
    }
   ],
   "source": [
    "\"\"\"\n",
    "For simplicity, we also want to remove objects containing more than one bipyridine motif to avoid treatment of \n",
    "overly complex molecules.\n",
    "\"\"\"\n",
    "i = 0\n",
    "while i < len(mol):\n",
    "    if len(mol[i].GetSubstructMatches(sub)) > 1 :\n",
    "        mol.remove(mol[i])\n",
    "    else:\n",
    "        i = i+1\n",
    "len(mol)"
   ]
  },
  {
   "cell_type": "code",
   "execution_count": 572,
   "id": "loving-wallet",
   "metadata": {},
   "outputs": [
    {
     "data": {
      "text/plain": [
       "5237"
      ]
     },
     "execution_count": 572,
     "metadata": {},
     "output_type": "execute_result"
    }
   ],
   "source": [
    "\"\"\"\n",
    "The library contains duplicated molecules. In the following, we systematically erase those duplicates. \n",
    "\"\"\"\n",
    "smilslist = []\n",
    "for i in mol:\n",
    "    smilslist.append(Chem.MolToSmiles(i))\n",
    "for i in range(len(mol)):\n",
    "    j = i+1\n",
    "    while j < len(mol):\n",
    "        if smilslist[i] == smilslist[j]:\n",
    "            del mol[j]\n",
    "            del smilslist[j]\n",
    "        else:\n",
    "            j = j+1\n",
    "len(mol)"
   ]
  },
  {
   "cell_type": "code",
   "execution_count": 573,
   "id": "bacterial-filling",
   "metadata": {},
   "outputs": [
    {
     "name": "stderr",
     "output_type": "stream",
     "text": [
      "RDKit ERROR: [10:44:56] non-ring atom 0 marked aromatic\n",
      "RDKit ERROR: [10:44:57] non-ring atom 0 marked aromatic\n",
      "RDKit ERROR: [10:44:58] non-ring atom 0 marked aromatic\n",
      "RDKit ERROR: [10:44:58] non-ring atom 0 marked aromatic\n",
      "RDKit ERROR: [10:44:58] non-ring atom 0 marked aromatic\n",
      "RDKit ERROR: [10:44:58] non-ring atom 0 marked aromatic\n",
      "RDKit ERROR: [10:44:58] non-ring atom 0 marked aromatic\n",
      "RDKit ERROR: [10:44:58] non-ring atom 0 marked aromatic\n",
      "RDKit ERROR: [10:44:58] non-ring atom 0 marked aromatic\n"
     ]
    },
    {
     "data": {
      "text/plain": [
       "3183"
      ]
     },
     "execution_count": 573,
     "metadata": {},
     "output_type": "execute_result"
    }
   ],
   "source": [
    "\"\"\"Now, the next step is to remove the bipyridine motif in each case and save the side chains as mol objects in a list.\n",
    "Then, we remove the duplicates (many duplicates will exist due to  most of these bipyridines having two identical \n",
    "side-chaines)\"\"\"\n",
    "\n",
    "chainlib = []\n",
    "i = 0\n",
    "for m1 in mol:\n",
    "    tmp = Chem.ReplaceCore(m1,sub,labelByIndex=True)\n",
    "    try:\n",
    "        rs = Chem.GetMolFrags(tmp,asMols=True)\n",
    "        i = i+1\n",
    "        for rs1 in rs:\n",
    "            chainlib.append(rs1)\n",
    "    except:\n",
    "        i = i+1\n",
    "smilslist = []\n",
    "for i in chainlib:\n",
    "    smilestext = MolWithoutIsotopesToSmiles(i)           # Homebrew function\n",
    "    smilslist.append(smilestext)\n",
    "for i in range(len(chainlib)):\n",
    "    j = i+1\n",
    "    while j < len(chainlib):\n",
    "        if smilslist[i] == smilslist[j]:\n",
    "            del chainlib[j]\n",
    "            del smilslist[j]\n",
    "        else:\n",
    "            j +=1\n",
    "len(chainlib)"
   ]
  },
  {
   "cell_type": "code",
   "execution_count": 575,
   "id": "meaning-aluminum",
   "metadata": {},
   "outputs": [
    {
     "data": {
      "text/plain": [
       "3049"
      ]
     },
     "execution_count": 575,
     "metadata": {},
     "output_type": "execute_result"
    }
   ],
   "source": [
    "\"\"\"\n",
    "The errors \"RDKit ERROR: [time] non-ring atom 0 marked aromatic\" appear whenever the sidechains of the bipyridine \n",
    "motif are in fact a ring sharing a bond with a pyridine. Such cases can be ignored, since we are only interested in\n",
    "sidechains with a unique attachment point.\n",
    "In the end, we get a library of sidechains which attachment points are marked by asterisk (see example below). \n",
    "For the last step, we discard the sidechains with more than one attachment point for simplicity reasons.\n",
    "\"\"\"\n",
    "search_and_destroy=[]\n",
    "for i in chainlib:\n",
    "    if len(i.GetSubstructMatches(Chem.MolFromSmiles('[*]'))) > 1:\n",
    "        search_and_destroy.append(i)\n",
    "for i in search_and_destroy:\n",
    "    chainlib.remove(i)\n",
    "\n",
    "len(chainlib)"
   ]
  },
  {
   "cell_type": "code",
   "execution_count": 576,
   "id": "employed-christopher",
   "metadata": {},
   "outputs": [],
   "source": [
    "\"\"\"\n",
    "The library is now set. We now need to write it in a text file. This is quite easy:\n",
    "\"\"\"\n",
    "root = '/Users/tarrago/Documents/personal-project/sidechain_smiles'\n",
    "text_file = open(root,'w+')\n",
    "for i in chainlib:\n",
    "    text_file.write(Chem.MolToSmiles(i)+'\\n')\n",
    "text_file.close()\n"
   ]
  },
  {
   "cell_type": "code",
   "execution_count": 247,
   "id": "welsh-march",
   "metadata": {},
   "outputs": [],
   "source": [
    "\"\"\"\n",
    "In the rest of the code, we show how to use the side chains library to build a randomly-generated Re-bpy complex,\n",
    "and optionally write the associated xyz files.\n",
    "\"\"\"\n"
   ]
  },
  {
   "cell_type": "code",
   "execution_count": 577,
   "id": "infinite-shock",
   "metadata": {},
   "outputs": [],
   "source": [
    "\"\"\"\n",
    "Functions: The following functions are related to building a random [Re(bpy)(CO)3] as an rdkit mol object, using\n",
    "the sidechain library.\n",
    "\"\"\"\n",
    "\n",
    "def spawn_Rebpy(chain_library,nchains,nrep):\n",
    "\n",
    "    \"\"\"\n",
    "    This function returns a list molvec containing a user-specified number of randomly generated rhenium bipyridine \n",
    "    complexes as rdkit mol objects.\n",
    "    Parameters:\n",
    "    chain_library (list of rkit mol objects): side-chains library. Must contain sidechains which attachment points\n",
    "    aremarked by isotop carbons.\n",
    "    nchains (integer): number of sidechains\n",
    "    nrep (integer): number of mol objects to be created\n",
    "    \"\"\"\n",
    "\n",
    "    molvec=[]\n",
    "    for j in range(0,nrep):\n",
    "        pickabranch=[0,1,2,5,7,8,9,10]\n",
    "        Vecchain=[]\n",
    "        Vecbranch=[]\n",
    "        Randtrace=[]\n",
    "        for i in range(0,nchains):\n",
    "            Randnum=random.randint(0,len(chain_library)-1)\n",
    "            Randbranch=random.choice(pickabranch)\n",
    "            Vecchain.append(chain_library[Randnum])\n",
    "            Vecbranch.append(Randbranch)\n",
    "            pickabranch.remove(Randbranch)\n",
    "        mol=mybipybuilder(Vecchain,Vecbranch)        # homebrew function\n",
    "        molvec.append(mol)\n",
    "    \n",
    "    return molvec\n",
    "\n",
    "\n",
    "def mybipybuilder(sidechains,nbrancher):\n",
    "   \n",
    "    \"\"\"\n",
    "    This function returns a Re(bpy)(CO)3 complex under the form of a rdkit mol object. The molecule is created by \n",
    "    attaching the side-chains specfied in a list to a Re(bpy)(CO)3 template without sidechains, to atoms of the bpy \n",
    "    which index is specified in a list.\n",
    "    Parameters:\n",
    "    sidechains(list of rdkit mol objects): list containing the side-chains as rdkit mol objects. contain an isotope \n",
    "    carbon in place of the attachment point.\n",
    "    nbrancher(list of integers): list containing the index of the bipyridine atoms which must be attached to the side-\n",
    "    chains.\n",
    "    \"\"\"\n",
    "    \n",
    "    template = Chem.MolFromSmiles('c1cc[n+]2c(c1)-c1cccc[n+]1[Re]2(C#[O+])(C#[O+])(C#[O+])')\n",
    "    for i in range(len(sidechains)):\n",
    "        side_chain = sidechains[i]\n",
    "        brancher = nbrancher[i]\n",
    "        template = Chem.CombineMols(template, side_chain)\n",
    "        list_attachment = template.GetSubstructMatches(Chem.MolFromSmiles('[*]'))\n",
    "        real_attachment = template.GetAtomWithIdx(list_attachment[0][0]).GetNeighbors()[0].GetIdx()\n",
    "        mol_edit = Chem.EditableMol(template)\n",
    "        mol_edit.AddBond(real_attachment, brancher)\n",
    "        mol_edit.RemoveAtom(list_attachment[0][0])\n",
    "        template = mol_edit.GetMol()\n",
    "    template_smiles = Chem.MolToSmiles(template)\n",
    "    template_smiles = template_smiles.replace('~','')\n",
    "    template = Chem.MolFromSmiles(template_smiles)\n",
    "    return template\n",
    "     "
   ]
  },
  {
   "cell_type": "code",
   "execution_count": 578,
   "id": "vietnamese-question",
   "metadata": {},
   "outputs": [],
   "source": [
    "\"\"\"\n",
    "The following functions are related to the generation of 3D cartesian coordinates for Re(bpy) complexes for DFT \n",
    "calculations.\n",
    "\"\"\"\n",
    "\n",
    "def write_xyzfiles(chainlib,nchains,nrep,place):\n",
    "    \n",
    "    \"\"\"\n",
    "    This function randomly generates a user-specified number of Re(bpy)(CO)3 complexes and writes the corresponding 3D\n",
    "    coordinates (N.B: a poor starting geometry, further optimizations are needed), a file containing the \n",
    "    smiles of the complexes, and a file containing the overall charges of each complexes, all in a unique,  \n",
    "    user-defined directory. It then returns a list containing the Re(bpy)(CO)3 complexes as mol objects. \n",
    "    Parameters:\n",
    "    chainlib (list of rdkit mol objects): list containing the side-chains\n",
    "    nchains (integer): the number of side-chains to the complex\n",
    "    nrep (integer): number of complexes to build\n",
    "    place(string): the path to the directory where the xyz files must be stored.\n",
    "    \"\"\"\n",
    "    \n",
    "    try:\n",
    "        sample=spawn_Rebpy(chainlib,nchains,nrep)\n",
    "    except:\n",
    "        pass\n",
    "    indx=0\n",
    "    place2=place\n",
    "    for mol in sample:\n",
    "        xyz_generator(mol,place,indx)            # Homebrew function\n",
    "        indx=indx+1\n",
    "    smiles_generator(place2,sample)              # Homebrew function\n",
    "    return sample\n",
    "\n",
    "\n",
    "def xyz_generator(mol,place,indx):  \n",
    "    \n",
    "    \"\"\"\n",
    "    Writes the 3D cartesian coordinate associated with a rdkit mol object in a specified location. Of note,\n",
    "    the 3D structure is obtained by embedding using the ETKDG method as implemented in Rdkit. Note that the starting geometry \n",
    "    is nowhere near an equilibrium geometry and will require an additionnal geometry optimization. \n",
    "    FF optimization with Re is not implemented in Rdkit unfortunately. However, the embedding allows a starting geometry \n",
    "    with not-too-awful angles and bond lengths, and most importantly, no overlapping atoms.\n",
    "    This way, with the appropriate scripts/QM/FF package, the starting geometry can be directly optimized without \n",
    "    additional user input.\n",
    "    Parameters:\n",
    "    mol (rdkit mol object): molecule which cartesian coordinates need to be written\n",
    "    place (str): the path to the desired location\n",
    "    indx (int): this is the index referencing the molecule, appearing in the xyzfile name.\n",
    "    \"\"\"\n",
    "    \n",
    "    if type(mol) is not None:\n",
    "        place=place+'/Rebipy-'+str(indx)+'.xyz'\n",
    "        mol2=Chem.AddHs(mol)\n",
    "        N=mol2.GetNumAtoms()\n",
    "        AllChem.EmbedMolecule(mol2,randomSeed=0xf00d)\n",
    "        print(Chem.MolToMolBlock(mol2),file=open(place,'w+'))\n",
    "        file=open(place,'r')\n",
    "        lines=file.readlines()\n",
    "        file.close()\n",
    "        file=open(place,'w+')\n",
    "        file.write(str(N)+'\\n')\n",
    "        file.write('This xyz file has been randomly generated!\\n')\n",
    "        for i in range (4,N+4):\n",
    "            linesp=lines[i].split()\n",
    "            linetowrite=linesp[3]+' '+linesp[0]+' '+linesp[1]+' '+linesp[2]+'\\n'\n",
    "            file.write(linetowrite)\n",
    "    else:\n",
    "        place=place+'/Rebipy-'+str(indx)+'.xyz'\n",
    "        file=open(place,'w+')\n",
    "        file.write('Empty mol object :(')\n",
    "        print('ho-ho, we have a problem...')\n",
    "    file.close\n",
    "\n",
    "\n",
    "def smiles_generator(place,samp):\n",
    "    \n",
    "    \"\"\"\n",
    "    Writes in a specified location a file containing the smiles corresponding to each rdkit mol object in the input\n",
    "    list. Also writes a file containing the overall charge of each complex in the same location.\n",
    "    Parameters:\n",
    "    place (string): the path to the directory where the xyz files must be stored.\n",
    "    samp (list of rdkit mol objects): the list of complexes (as rdkit mol objects) for which smiles and charge must be\n",
    "    written. \n",
    "    \"\"\"\n",
    "    \n",
    "    placeX=place+'/smiles-index'\n",
    "    file1=open(placeX,'w+')\n",
    "    for sa in samp:\n",
    "        file1.write(Chem.MolToSmiles(sa)+'\\n')\n",
    "    file1.close()\n",
    "    placeY=place+'/chargefile'\n",
    "    file1=open(placeY,'w+')\n",
    "    for sa in samp:\n",
    "        file1.write(str(Chem.GetFormalCharge(sa) - 5)+'\\n')\n",
    "    file1.close()\n",
    "\n",
    "\n"
   ]
  },
  {
   "cell_type": "code",
   "execution_count": 579,
   "id": "abstract-workplace",
   "metadata": {},
   "outputs": [
    {
     "name": "stderr",
     "output_type": "stream",
     "text": [
      "RDKit ERROR: [10:45:28] UFFTYPER: Unrecognized atom type: Re6 (43)\n",
      "RDKit ERROR: [10:45:29] UFFTYPER: Unrecognized atom type: Re6 (21)\n",
      "RDKit ERROR: [10:45:29] UFFTYPER: Unrecognized atom type: Re6 (25)\n",
      "RDKit ERROR: [10:45:29] UFFTYPER: Unrecognized atom type: Re6 (39)\n",
      "RDKit ERROR: [10:45:29] UFFTYPER: Unrecognized atom type: Re6 (79)\n",
      "RDKit ERROR: [10:45:30] UFFTYPER: Unrecognized atom type: Re6 (33)\n",
      "RDKit ERROR: [10:45:30] UFFTYPER: Unrecognized atom type: Re6 (2)\n",
      "RDKit ERROR: [10:45:30] UFFTYPER: Unrecognized atom type: Re6 (24)\n",
      "RDKit ERROR: [10:45:30] UFFTYPER: Unrecognized atom type: Re6 (27)\n",
      "RDKit ERROR: [10:45:31] UFFTYPER: Unrecognized atom type: Re6 (43)\n",
      "RDKit ERROR: [10:45:31] UFFTYPER: Unrecognized atom type: Re6 (2)\n",
      "RDKit ERROR: [10:45:31] UFFTYPER: Unrecognized atom type: Re6 (22)\n",
      "RDKit ERROR: [10:45:31] UFFTYPER: Unrecognized atom type: Re6 (58)\n",
      "RDKit ERROR: [10:45:32] UFFTYPER: Unrecognized atom type: Re6 (32)\n",
      "RDKit ERROR: [10:45:32] UFFTYPER: Unrecognized atom type: Re6 (35)\n",
      "RDKit ERROR: [10:45:33] UFFTYPER: Unrecognized atom type: Re6 (17)\n",
      "RDKit ERROR: [10:45:33] UFFTYPER: Unrecognized atom type: Re6 (51)\n",
      "RDKit ERROR: [10:45:33] UFFTYPER: Unrecognized atom type: Re6 (45)\n",
      "RDKit ERROR: [10:45:34] UFFTYPER: Unrecognized atom type: Re6 (61)\n",
      "RDKit ERROR: [10:45:34] UFFTYPER: Unrecognized atom type: Re6 (2)\n",
      "RDKit ERROR: [10:45:34] UFFTYPER: Unrecognized atom type: Re6 (44)\n",
      "RDKit ERROR: [10:45:34] UFFTYPER: Unrecognized atom type: Re6 (30)\n",
      "RDKit ERROR: [10:45:35] UFFTYPER: Unrecognized atom type: Re6 (2)\n",
      "RDKit ERROR: [10:45:35] UFFTYPER: Unrecognized atom type: Re6 (16)\n",
      "RDKit ERROR: [10:45:35] UFFTYPER: Unrecognized atom type: Re6 (35)\n",
      "RDKit ERROR: [10:45:36] UFFTYPER: Unrecognized atom type: Re6 (31)\n",
      "RDKit ERROR: [10:45:36] UFFTYPER: Unrecognized atom type: Re6 (54)\n",
      "RDKit ERROR: [10:45:37] UFFTYPER: Unrecognized atom type: Re6 (2)\n",
      "RDKit ERROR: [10:45:37] UFFTYPER: Unrecognized atom type: Re6 (88)\n",
      "RDKit ERROR: [10:45:42] UFFTYPER: Unrecognized atom type: Re6 (17)\n",
      "RDKit ERROR: [10:45:42] UFFTYPER: Unrecognized atom type: Re6 (38)\n",
      "RDKit ERROR: [10:45:42] UFFTYPER: Unrecognized atom type: Re6 (19)\n",
      "RDKit ERROR: [10:45:43] UFFTYPER: Unrecognized atom type: Re6 (11)\n",
      "RDKit ERROR: [10:45:45] UFFTYPER: Unrecognized atom type: Re6 (42)\n",
      "RDKit ERROR: [10:45:45] UFFTYPER: Unrecognized charge state for atom: 3\n",
      "RDKit ERROR: [10:45:45] UFFTYPER: Unrecognized atom type: Re6 (18)\n",
      "RDKit ERROR: [10:45:46] UFFTYPER: Unrecognized atom type: Re6 (47)\n",
      "RDKit ERROR: [10:45:46] UFFTYPER: Unrecognized atom type: Re6 (50)\n",
      "RDKit ERROR: [10:45:47] UFFTYPER: Unrecognized atom type: Re6 (107)\n",
      "RDKit ERROR: [10:45:48] UFFTYPER: Unrecognized atom type: Re6 (24)\n",
      "RDKit ERROR: [10:45:49] UFFTYPER: Unrecognized atom type: Re6 (118)\n",
      "RDKit ERROR: [10:45:51] UFFTYPER: Unrecognized atom type: Re6 (125)\n",
      "RDKit ERROR: [10:45:56] UFFTYPER: Unrecognized atom type: Re6 (17)\n",
      "RDKit ERROR: [10:45:56] UFFTYPER: Unrecognized atom type: Re6 (36)\n",
      "RDKit ERROR: [10:45:57] UFFTYPER: Unrecognized atom type: Re6 (51)\n",
      "RDKit ERROR: [10:45:58] UFFTYPER: Unrecognized atom type: Re6 (31)\n",
      "RDKit ERROR: [10:45:59] UFFTYPER: Unrecognized atom type: Re6 (50)\n",
      "RDKit ERROR: [10:45:59] UFFTYPER: Unrecognized atom type: Re6 (62)\n",
      "RDKit ERROR: [10:45:59] UFFTYPER: Unrecognized atom type: Re6 (30)\n",
      "RDKit ERROR: [10:46:00] UFFTYPER: Unrecognized atom type: Re6 (43)\n",
      "RDKit ERROR: [10:46:00] UFFTYPER: Unrecognized atom type: Re6 (2)\n"
     ]
    }
   ],
   "source": [
    "\"\"\"\n",
    "to obtain a set of molecules in a given directory, one does simply call the write_xyzfiles function. For instance, \n",
    "to write 50 coordinate files:\n",
    "\"\"\"\n",
    "root='/Users/tarrago/Documents/personal-project'\n",
    "nchains=2\n",
    "nrep=50\n",
    "random_library=write_xyzfiles(chainlib, nchains, nrep, root)"
   ]
  },
  {
   "cell_type": "code",
   "execution_count": 545,
   "id": "heard-ensemble",
   "metadata": {},
   "outputs": [],
   "source": [
    "\"\"\"\n",
    "As mentionned earlier, the Re atom is not recognized by the algorithm, hence the complaint \n",
    "\"Unrecognized atom type: Re6\". In this case, the embedding procedure uses a \"default\" atom type. Again, in our\n",
    "case this is not a problem since the structure will be optimized using more advanced methods in a later program.\n",
    "\"\"\""
   ]
  },
  {
   "cell_type": "code",
   "execution_count": 537,
   "id": "mechanical-craft",
   "metadata": {},
   "outputs": [],
   "source": [
    "\"\"\"\n",
    "Hence this program enables to rapidly generate the rdkit mol objects and cartesian coordinates for a large amount \n",
    "of randomly generated Rebpy complexes. Its purpose is to create starting structure for machine learning training set \n",
    "(structures which geometry will then be optimized and molecular properties extracted by more advanced methods). It \n",
    "also enables the rapid generation of new molecules in order to scan the chemical space (using a genetic algorithm\n",
    "which will be presented in a later notebook.)\n",
    "\"\"\""
   ]
  }
 ],
 "metadata": {
  "kernelspec": {
   "display_name": "Python [conda env:my-rdkit-env] *",
   "language": "python",
   "name": "conda-env-my-rdkit-env-py"
  },
  "language_info": {
   "codemirror_mode": {
    "name": "ipython",
    "version": 3
   },
   "file_extension": ".py",
   "mimetype": "text/x-python",
   "name": "python",
   "nbconvert_exporter": "python",
   "pygments_lexer": "ipython3",
   "version": "3.7.10"
  }
 },
 "nbformat": 4,
 "nbformat_minor": 5
}
